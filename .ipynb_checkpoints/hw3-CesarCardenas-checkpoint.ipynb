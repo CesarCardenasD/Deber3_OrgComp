{
 "cells": [
  {
   "cell_type": "markdown",
   "id": "a2665cc8",
   "metadata": {},
   "source": [
    "## CMP-3004\n",
    "## Computer Organization\n",
    "\n",
    "### Spring 2023"
   ]
  },
  {
   "cell_type": "markdown",
   "id": "df038792",
   "metadata": {},
   "source": [
    "## Homework 3"
   ]
  },
  {
   "cell_type": "markdown",
   "id": "86ef6850",
   "metadata": {},
   "source": [
    "Todos los codigos .asm estan en este repositorio git"
   ]
  },
  {
   "cell_type": "markdown",
   "id": "d7a5493e",
   "metadata": {},
   "source": [
    "### 1. Use assembly to solve the following problems:\n",
    "- Obtain the 50th Fibonacci number\n",
    "- Find out if a given year is leap\n",
    "- Given an array of integers, calculate the average\n",
    "- Write a program to transform from Celsius to Fahrenheit and vice versa"
   ]
  },
  {
   "cell_type": "markdown",
   "id": "84c7cd81",
   "metadata": {},
   "source": [
    "Para hacer los codigos se utilizo el programa MARS 4.5"
   ]
  },
  {
   "cell_type": "markdown",
   "id": "49aa1092",
   "metadata": {},
   "source": [
    "Codigo assembly para obtener el numero 50th de la serie fibonacci:\n",
    "fibonacci.asm"
   ]
  },
  {
   "cell_type": "markdown",
   "id": "1bee3c0b",
   "metadata": {},
   "source": [
    "Codigo assembly para encontrar sí a given year is leap:\n",
    "anioBisiesto.asm"
   ]
  },
  {
   "cell_type": "markdown",
   "id": "65dc2326",
   "metadata": {},
   "source": [
    "Codigo assembly para encontrar el promedio de un arreglo:\n",
    "ArrayAverage.asm"
   ]
  },
  {
   "cell_type": "markdown",
   "id": "a9bd5b9e",
   "metadata": {},
   "source": [
    "Codigo assembly para transformar de Celsius to Fahrenheit y vice versa: temperaturaConv.asm"
   ]
  },
  {
   "cell_type": "markdown",
   "id": "6d39def2",
   "metadata": {},
   "source": [
    "### 2. For the following memory space, what would it look like after executing the assembly code below:\n",
    "\n",
    "|Address|Contents|\n",
    "|-------|--------|\n",
    "|10     | 1      |\n",
    "|11     | 4      |\n",
    "|12     | 5      |\n",
    "|13     | 112    |\n",
    "|14     | 7      |\n",
    "\n",
    "```\n",
    "LOAD 14\n",
    "ADD (12)\n",
    "STORE 12\n",
    "```"
   ]
  },
  {
   "cell_type": "markdown",
   "id": "377587a9",
   "metadata": {},
   "source": [
    "```\n",
    "Con LOAD 14 obtenemos el numero \"7\" \n",
    "Con ADD (12) añadimos \"5\" a \"7\" dejandonos con un valor de \"12\"\n",
    "En STORE 12 colocamos este valor en 12, es decir remplazamos \"5\" por \"12\"\n",
    "Esto nos deja el siguiente resultado:\n",
    "```\n",
    "|Address|Contents|\n",
    "|-------|--------|\n",
    "|10     | 1      |\n",
    "|11     | 4      |\n",
    "|12     | 12     |\n",
    "|13     | 112    |\n",
    "|14     | 7      |\n"
   ]
  },
  {
   "cell_type": "markdown",
   "id": "f7c2063e",
   "metadata": {},
   "source": [
    "### 3. Implement a function named `abs_diff` that calculates the absolute value of the difference of two inputs `a` and `b` (i.e., |a-b|), and get the assembly code output"
   ]
  },
  {
   "cell_type": "markdown",
   "id": "a3cc3018",
   "metadata": {},
   "source": [
    "Codigo assembly para implementar la funcion abs_diff: abs_diff.asm"
   ]
  },
  {
   "cell_type": "markdown",
   "id": "85a4f601",
   "metadata": {},
   "source": [
    "### 4. What are the differences among sequential access, direct access, and random access?"
   ]
  },
  {
   "cell_type": "markdown",
   "id": "fb8c834f",
   "metadata": {},
   "source": [
    "Las diferencias entre acceso secuencial, acceso directo y acceso aleatorio son:\n",
    "\n",
    "Acceso secuencial: Se accede a los datos secuencialmente o en un orden específico. El sistema debe atravesar linealmente todos los datos anteriores para acceder a un dato en particular. Los datos se leen o escriben secuencialmente desde el principio hasta que llegan a la ubicación deseada. Es comparable a leer un libro página por página, donde debes leer todas las páginas anteriores antes de llegar a una página en particular.\n",
    "\n",
    "Acceso directo: Puede acceder a los datos directamente mediante el acceso directo sin tener que pasar por datos anteriores. Los datos deseados se localizan mediante un índice o clave. El sistema utiliza el identificador único que se otorga a cada registro de datos para obtener acceso directo a los datos correspondientes. Es comparable a usar una tabla de contenido o un índice para encontrar páginas específicas en un libro.\n",
    "\n",
    "Acceso aleatorio: Se puede acceder directamente a cualquier elemento de datos mediante el acceso aleatorio, lo que elimina la necesidad de recorrer los datos anteriores. No importa dónde se encuentren los datos, permite acceder a ellos en cualquier orden. Los datos se pueden encontrar directamente usando una dirección o desplazamiento en dispositivos de acceso aleatorio. Es comparable a saltar directamente a un número de página específico en un libro para acceder a una página en particular sin tener que hojear las páginas anteriores.\n"
   ]
  },
  {
   "cell_type": "markdown",
   "id": "02d33e02",
   "metadata": {},
   "source": [
    "### 5. What common characteristics are shared by all RAID levels?"
   ]
  },
  {
   "cell_type": "markdown",
   "id": "92b6d3db",
   "metadata": {},
   "source": [
    "Controlador RAID: Los niveles RAID normalmente requieren un controlador RAID dedicado, que puede ser un controlador de hardware independiente o un controlador basado en software. El controlador controla las operaciones del disco, la redundancia de datos y otras funciones específicas de RAID.\n",
    "\n",
    "Distribución de datos: Los datos se dividen en bloques o \"franjas\" y se distribuyen en varios discos de la matriz RAID utilizando la técnica de fragmentación de datos, que se utiliza en los niveles de RAID. Esto facilita el acceso a los datos en paralelo y aumenta el rendimiento en general.\n",
    "\n",
    "Aumento de la capacidad de almacenamiento: A través de la consolidación de varias unidades en una sola unidad lógica, los niveles de RAID también pueden proporcionar más espacio de almacenamiento. Al hacerlo, puede darle al sistema operativo la apariencia de unidades virtuales o matrices más grandes que están conectadas entre sí.\n",
    "\n",
    "Tolerancia a fallos: Los mecanismos de tolerancia a fallas se incorporan en la mayoría de los niveles de RAID para proporcionar redundancia de datos y aumentar la confiabilidad. Para lograrlo, se utilizan técnicas como la duplicación, la paridad o una combinación de ambas. Cuando falla una unidad, estos mecanismos ayudan a prevenir la pérdida de datos.\n",
    "\n",
    "Mejora del rendimiento: Los niveles de RAID suelen ofrecer un mejor rendimiento de lectura y escritura en comparación con un solo disco porque distribuyen los datos en varios discos y permiten el acceso paralelo a los datos. Según el nivel de RAID y la naturaleza de la carga de trabajo, se aplican diferentes ventajas de rendimiento.\n",
    "\n",
    "Recuperación de datos: Para la recuperación de datos en caso de falla de la unidad, los niveles de RAID suelen tener funciones o herramientas. La información de redundancia o las unidades de repuesto dentro de la matriz RAID se pueden usar para reconstruir los datos perdidos, según el nivel y la configuración de RAID.\n"
   ]
  },
  {
   "cell_type": "code",
   "execution_count": null,
   "id": "c05649b9",
   "metadata": {},
   "outputs": [],
   "source": []
  }
 ],
 "metadata": {
  "kernelspec": {
   "display_name": "Python 3",
   "language": "python",
   "name": "python3"
  },
  "language_info": {
   "codemirror_mode": {
    "name": "ipython",
    "version": 3
   },
   "file_extension": ".py",
   "mimetype": "text/x-python",
   "name": "python",
   "nbconvert_exporter": "python",
   "pygments_lexer": "ipython3",
   "version": "3.8.8"
  }
 },
 "nbformat": 4,
 "nbformat_minor": 5
}
